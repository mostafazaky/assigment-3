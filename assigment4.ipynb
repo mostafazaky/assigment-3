{
 "cells": [
  {
   "cell_type": "code",
   "execution_count": 1,
   "id": "1bfd8af2",
   "metadata": {},
   "outputs": [],
   "source": [
    "import numpy as np"
   ]
  },
  {
   "cell_type": "code",
   "execution_count": 2,
   "id": "ad989f36",
   "metadata": {},
   "outputs": [
    {
     "data": {
      "text/plain": [
       "False"
      ]
     },
     "execution_count": 2,
     "metadata": {},
     "output_type": "execute_result"
    }
   ],
   "source": [
    "#1. Write a NumPy program to test whether none of the elements of a given array is zero.\n",
    "\n",
    "arr = np.array([0,1, 2, 3, 4, 5])\n",
    "\n",
    "arr.all()"
   ]
  },
  {
   "cell_type": "code",
   "execution_count": 3,
   "id": "32e0698f",
   "metadata": {},
   "outputs": [
    {
     "data": {
      "text/plain": [
       "True"
      ]
     },
     "execution_count": 3,
     "metadata": {},
     "output_type": "execute_result"
    }
   ],
   "source": [
    "#2. Write a NumPy program to test whether any of the elements of a given array is non-zero.\n",
    "\n",
    "arr = np.array([0,1, 2, 3, 4, 5])\n",
    "\n",
    "arr.any()\n"
   ]
  },
  {
   "cell_type": "code",
   "execution_count": 4,
   "id": "62e801ad",
   "metadata": {},
   "outputs": [
    {
     "data": {
      "text/plain": [
       "True"
      ]
     },
     "execution_count": 4,
     "metadata": {},
     "output_type": "execute_result"
    }
   ],
   "source": [
    "#3. Write a NumPy program to create an element-wise comparison (equal, equal within a tolerance) of two given\n",
    "a = np.array([1,2,3,4])\n",
    "b = np.array([1,2,3,3.99999999999999999999999])\n",
    "\n",
    "\n",
    "np.allclose(a,b)"
   ]
  },
  {
   "cell_type": "code",
   "execution_count": 5,
   "id": "56de0509",
   "metadata": {},
   "outputs": [
    {
     "data": {
      "text/plain": [
       "array([[1, 1, 1, 1, 1, 1, 1, 1, 1, 1],\n",
       "       [0, 0, 0, 0, 0, 0, 0, 0, 0, 0],\n",
       "       [5, 5, 5, 5, 5, 5, 5, 5, 5, 5]])"
      ]
     },
     "execution_count": 5,
     "metadata": {},
     "output_type": "execute_result"
    }
   ],
   "source": [
    "#4. Write a NumPy program to create an array of 10 zeros,10 ones, 10 fives.\n",
    "\n",
    "a = np.arange(1,31)\n",
    "\n",
    "a = np.zeros((3,10)).astype(int)\n",
    "a[-1 , :] = 5\n",
    "\n",
    "a[:1 , :] = 1\n",
    "a"
   ]
  },
  {
   "cell_type": "code",
   "execution_count": 6,
   "id": "178a4bca",
   "metadata": {},
   "outputs": [
    {
     "data": {
      "text/plain": [
       "array([30, 31, 32, 33, 34, 35, 36, 37, 38, 39, 40, 41, 42, 43, 44, 45, 46,\n",
       "       47, 48, 49, 50, 51, 52, 53, 54, 55, 56, 57, 58, 59, 60, 61, 62, 63,\n",
       "       64, 65, 66, 67, 68, 69, 70])"
      ]
     },
     "execution_count": 6,
     "metadata": {},
     "output_type": "execute_result"
    }
   ],
   "source": [
    "#5. Write a NumPy program to create an array of the integers from 30 to70.\n",
    "\n",
    "np.arange(30,71).astype(int)"
   ]
  },
  {
   "cell_type": "code",
   "execution_count": 7,
   "id": "c58483af",
   "metadata": {},
   "outputs": [
    {
     "data": {
      "text/plain": [
       "array([[1, 0, 0],\n",
       "       [0, 1, 0],\n",
       "       [0, 0, 1]])"
      ]
     },
     "execution_count": 7,
     "metadata": {},
     "output_type": "execute_result"
    }
   ],
   "source": [
    "#6. Write a NumPy program to create a 3x3 identity matrix\n",
    "x = np.diag([1,1,1]).astype(int)\n",
    "x"
   ]
  },
  {
   "cell_type": "code",
   "execution_count": 8,
   "id": "28208a73",
   "metadata": {},
   "outputs": [
    {
     "data": {
      "text/plain": [
       "0.842623873444424"
      ]
     },
     "execution_count": 8,
     "metadata": {},
     "output_type": "execute_result"
    }
   ],
   "source": [
    "#7. Write a NumPy program to generate a random number between 0 and 1\n",
    "np.random.uniform(0,1)"
   ]
  },
  {
   "cell_type": "code",
   "execution_count": 9,
   "id": "eface941",
   "metadata": {},
   "outputs": [
    {
     "data": {
      "text/plain": [
       "array([51, 76, 95, 46, 73, 70,  3, 67, 68, 27, 70, 30, 97, 78, 62])"
      ]
     },
     "execution_count": 9,
     "metadata": {},
     "output_type": "execute_result"
    }
   ],
   "source": [
    "#8. Write a NumPy program to generate an array of 15 random numbers from a standard normal distribution\n",
    "\n",
    "np.random.randint(0,100,15)"
   ]
  },
  {
   "cell_type": "code",
   "execution_count": 10,
   "id": "f5f084ca",
   "metadata": {},
   "outputs": [
    {
     "data": {
      "text/plain": [
       "array([16, 17, 18, 19, 20, 21, 22, 23, 24, 25, 26, 27, 28, 29, 30, 31, 32,\n",
       "       33, 34, 35, 36, 37, 38, 39, 40, 41, 42, 43, 44, 45, 46, 47, 48, 49,\n",
       "       50, 51, 52, 53, 54])"
      ]
     },
     "execution_count": 10,
     "metadata": {},
     "output_type": "execute_result"
    }
   ],
   "source": [
    "#9. Write a NumPy program to create a vector with values ranging from 15 to 55 and print all values \n",
    "#except the first and last.\n",
    "v = np.arange(15,56)\n",
    "\n",
    "v[1:-1]"
   ]
  },
  {
   "cell_type": "code",
   "execution_count": 11,
   "id": "0098d73f",
   "metadata": {},
   "outputs": [
    {
     "data": {
      "text/plain": [
       "array([6, 6, 4, 4, 3])"
      ]
     },
     "execution_count": 11,
     "metadata": {},
     "output_type": "execute_result"
    }
   ],
   "source": [
    "#10. Write a NumPy program to create a vector of length 5 filled with arbitrary integers from 0 to 10\n",
    "\n",
    "v = np.random.randint(0,10,5)\n",
    "\n",
    "v"
   ]
  },
  {
   "cell_type": "code",
   "execution_count": 12,
   "id": "b91ab266",
   "metadata": {},
   "outputs": [
    {
     "data": {
      "text/plain": [
       "array([[1, 1, 1, 1, 1, 1, 1, 1, 1, 1],\n",
       "       [1, 0, 0, 0, 0, 0, 0, 0, 0, 1],\n",
       "       [1, 0, 0, 0, 0, 0, 0, 0, 0, 1],\n",
       "       [1, 0, 0, 0, 0, 0, 0, 0, 0, 1],\n",
       "       [1, 0, 0, 0, 0, 0, 0, 0, 0, 1],\n",
       "       [1, 0, 0, 0, 0, 0, 0, 0, 0, 1],\n",
       "       [1, 0, 0, 0, 0, 0, 0, 0, 0, 1],\n",
       "       [1, 0, 0, 0, 0, 0, 0, 0, 0, 1],\n",
       "       [1, 0, 0, 0, 0, 0, 0, 0, 0, 1],\n",
       "       [1, 1, 1, 1, 1, 1, 1, 1, 1, 1]])"
      ]
     },
     "execution_count": 12,
     "metadata": {},
     "output_type": "execute_result"
    }
   ],
   "source": [
    "#11. Write a NumPy program to create a 10x10 matrix, in which the elements on the borders will be equal\n",
    "#to 1, and inside 0.\n",
    "\n",
    "y = np.zeros((10,10)).astype(int)\n",
    "y[0:1 , :] = 1\n",
    "y[: , 0:1] = 1\n",
    "y[: , -1] = 1\n",
    "y[-1, :] = 1\n",
    "\n",
    "y"
   ]
  },
  {
   "cell_type": "code",
   "execution_count": 13,
   "id": "f0da8457",
   "metadata": {},
   "outputs": [
    {
     "data": {
      "text/plain": [
       "array([[1, 0, 0, 0, 0],\n",
       "       [0, 2, 0, 0, 0],\n",
       "       [0, 0, 3, 0, 0],\n",
       "       [0, 0, 0, 4, 0],\n",
       "       [0, 0, 0, 0, 5]])"
      ]
     },
     "execution_count": 13,
     "metadata": {},
     "output_type": "execute_result"
    }
   ],
   "source": [
    "#12. Write a NumPy program to create a 5x5 zero matrix with elements on the main diagonal equal to 1, 2,3, 4, 5.\n",
    "y = np.diag([1,2,3,4,5])\n",
    "y"
   ]
  },
  {
   "cell_type": "code",
   "execution_count": 14,
   "id": "9ab30db3",
   "metadata": {},
   "outputs": [
    {
     "data": {
      "text/plain": [
       "array([[0, 1, 0, 1],\n",
       "       [1, 0, 1, 0],\n",
       "       [0, 1, 0, 1],\n",
       "       [1, 0, 1, 0]])"
      ]
     },
     "execution_count": 14,
     "metadata": {},
     "output_type": "execute_result"
    }
   ],
   "source": [
    "#13. Write a NumPy program to create a 4x4 matrix in which 0 and 1 are staggered, with zeros on the main\n",
    "#diagonal.\n",
    "\n",
    "m = np.zeros([4,4]).astype(int)\n",
    "m[0:1,-1] = 1\n",
    "m[2,-1] = 1\n",
    "m[3,0] = 1\n",
    "m[0,1] = 1\n",
    "m[1,0] = 1\n",
    "m[1,2] = 1\n",
    "m[2,1] = 1\n",
    "m[3,2] = 1\n",
    "m"
   ]
  },
  {
   "cell_type": "code",
   "execution_count": 15,
   "id": "451f76e0",
   "metadata": {},
   "outputs": [
    {
     "data": {
      "text/plain": [
       "array([1, 2, 3, 4])"
      ]
     },
     "execution_count": 15,
     "metadata": {},
     "output_type": "execute_result"
    }
   ],
   "source": [
    "#14. Write a NumPy program to save two given arrays into a single file in compressed format (.npz format) \n",
    "#and load it.\n",
    "\n",
    "a = np.array([1,2,3,4])\n",
    "\n",
    "b = np.array([5,6,7,8])\n",
    "\n",
    "\n",
    "h=np.savez(\"AB\",x=a, y=b)\n",
    "h=np.load(\"AB.npz\")\n",
    "\n",
    "h['x']"
   ]
  },
  {
   "cell_type": "code",
   "execution_count": 16,
   "id": "9d3f8e25",
   "metadata": {},
   "outputs": [
    {
     "data": {
      "text/plain": [
       "array([123, 175, 440, 710, 898, 361, 600, 457, 819, 394,  59, 765, 872,\n",
       "       110, 607, 824, 952, 314, 873, 677, 947,  45, 295, 127, 565, 388,\n",
       "         1, 184, 534, 150, 714, 423, 510, 487,  57, 707, 175, 374,  31,\n",
       "       649])"
      ]
     },
     "execution_count": 16,
     "metadata": {},
     "output_type": "execute_result"
    }
   ],
   "source": [
    "#15. Write a NumPy program to create a one-dimensional array of forty pseudo-randomly generated values.\n",
    "#Select\n",
    "np.random.seed(4)\n",
    "np.random.randint(1,1000,40)\n",
    "\n"
   ]
  },
  {
   "cell_type": "code",
   "execution_count": 17,
   "id": "f75692ad",
   "metadata": {},
   "outputs": [
    {
     "data": {
      "text/plain": [
       "array([5, 6, 7, 8, 9])"
      ]
     },
     "execution_count": 17,
     "metadata": {},
     "output_type": "execute_result"
    }
   ],
   "source": [
    "#16. Write a NumPy program to extract all numbers from a given array which are less and greater than a\n",
    "#specified number.\n",
    "\n",
    "x = np.arange(1,10)\n",
    "y = 4\n",
    "x[x>y]\n"
   ]
  },
  {
   "cell_type": "code",
   "execution_count": 18,
   "id": "eeea7e64",
   "metadata": {},
   "outputs": [
    {
     "data": {
      "text/plain": [
       "array([1, 2, 3, 4, 5, 6])"
      ]
     },
     "execution_count": 18,
     "metadata": {},
     "output_type": "execute_result"
    }
   ],
   "source": [
    "z=7\n",
    "x[x<z]"
   ]
  }
 ],
 "metadata": {
  "kernelspec": {
   "display_name": "Python 3 (ipykernel)",
   "language": "python",
   "name": "python3"
  },
  "language_info": {
   "codemirror_mode": {
    "name": "ipython",
    "version": 3
   },
   "file_extension": ".py",
   "mimetype": "text/x-python",
   "name": "python",
   "nbconvert_exporter": "python",
   "pygments_lexer": "ipython3",
   "version": "3.11.4"
  }
 },
 "nbformat": 4,
 "nbformat_minor": 5
}
